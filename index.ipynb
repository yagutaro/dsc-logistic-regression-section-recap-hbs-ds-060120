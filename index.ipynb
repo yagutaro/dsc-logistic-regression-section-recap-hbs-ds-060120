{
 "cells": [
  {
   "cell_type": "markdown",
   "metadata": {},
   "source": [
    "# Logistic Regression - Recap"
   ]
  },
  {
   "cell_type": "markdown",
   "metadata": {},
   "source": [
    "## Key Takeaways\n",
    "\n",
    "* In this section you learned about a different supervised learning technique: classification! Specifically, you practiced building a very basic classification model from scratch - a logistic regression model \n",
    "* Logistic regression uses a sigmoid function which helps to plot an \"s\"-like curve that enables a linear function to act as a binary classifier\n",
    "* You can evaluate logistic regression models using some combination of precision, recall, and accuracy\n",
    "* A confusion matrix is another common way to visualize the performance of a classification model\n",
    "* Receiver Operating Characteristic (ROC) curve and the Area Under the Curve (AUC) can be used to help determine the best precision-recall tradeoff for a given classifier\n",
    "* Class weights, under/oversampling, and SMOTE can be used to deal with class imbalance problems"
   ]
  }
 ],
 "metadata": {
  "kernelspec": {
   "display_name": "Python 3",
   "language": "python",
   "name": "python3"
  },
  "language_info": {
   "codemirror_mode": {
    "name": "ipython",
    "version": 3
   },
   "file_extension": ".py",
   "mimetype": "text/x-python",
   "name": "python",
   "nbconvert_exporter": "python",
   "pygments_lexer": "ipython3",
   "version": "3.6.9"
  }
 },
 "nbformat": 4,
 "nbformat_minor": 2
}
